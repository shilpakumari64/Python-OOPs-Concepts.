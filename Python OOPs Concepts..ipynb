{
 "cells": [
  {
   "cell_type": "markdown",
   "id": "2176622a",
   "metadata": {},
   "source": [
    "## Python OOPs Concepts.\n"
   ]
  },
  {
   "cell_type": "markdown",
   "id": "e7c25b16",
   "metadata": {},
   "source": [
    "## In Python\n",
    "     Object Oriented Programming Language(OOPS) is a programming paradigm(style of designing software) that uses object and classes in programming.\n",
    "     \n",
    "     The main concepts of OOPs is to bind the data and thefunction together as a single unit so that no other part of the code can access this data."
   ]
  },
  {
   "cell_type": "markdown",
   "id": "8e722046",
   "metadata": {},
   "source": [
    "## Main Concepts in OOPs are\n",
    "- Class\n",
    "- Objects\n",
    "- Polymorphism\n",
    "- Encapsulation\n",
    "- Inheritance\n",
    "- Data Abstraction\n"
   ]
  },
  {
   "cell_type": "markdown",
   "id": "3e870423",
   "metadata": {},
   "source": [
    "### 1.Class \n",
    "- classes define a **type.**\n",
    "- classes are created by keyword class.\n",
    "- Attribures are the variable thta belong to a class.\n",
    "- Attributes are always pubic and can be accessed using the dot(.)\n",
    "        example:Myclass.Myattribute.\n"
   ]
  },
  {
   "cell_type": "markdown",
   "id": "f96e9797",
   "metadata": {},
   "source": [
    "## Class Definition Syntax:\n",
    "  class ClassName:\n",
    "  #Statement-1\n",
    "  .\n",
    "  .\n",
    "  .\n",
    "  #statement-N"
   ]
  },
  {
   "cell_type": "code",
   "execution_count": 14,
   "id": "e1a2804d",
   "metadata": {},
   "outputs": [],
   "source": [
    "#Creating an empty Class in Python.\n",
    "class carrier:\n",
    "    pass\n"
   ]
  },
  {
   "cell_type": "markdown",
   "id": "3c179db1",
   "metadata": {},
   "source": [
    "In the above example,we have created a class named carrier using the class keyword."
   ]
  },
  {
   "cell_type": "code",
   "execution_count": 15,
   "id": "f95e9105",
   "metadata": {},
   "outputs": [],
   "source": [
    "class student:\n",
    "    pass"
   ]
  },
  {
   "cell_type": "markdown",
   "id": "1ef8cf96",
   "metadata": {},
   "source": [
    "### Variable are called attributes and functions are called methods."
   ]
  },
  {
   "cell_type": "markdown",
   "id": "175a0b26",
   "metadata": {},
   "source": [
    "- Now thta we have define a class we can create as many as objects."
   ]
  },
  {
   "cell_type": "code",
   "execution_count": 18,
   "id": "ddced4b1",
   "metadata": {},
   "outputs": [],
   "source": [
    "class student:\n",
    "    pass\n",
    "student1 = student()    #Student1 and Student2 are both object of the student class\n",
    "student2 = student()"
   ]
  },
  {
   "cell_type": "code",
   "execution_count": 19,
   "id": "123a4941",
   "metadata": {},
   "outputs": [],
   "source": [
    "student1.name = 'Shilpa'\n",
    "student1.marks = 90"
   ]
  },
  {
   "cell_type": "code",
   "execution_count": 20,
   "id": "1b106a5e",
   "metadata": {},
   "outputs": [
    {
     "name": "stdout",
     "output_type": "stream",
     "text": [
      "Shilpa\n",
      "90\n"
     ]
    }
   ],
   "source": [
    "print(student1.name)\n",
    "print(student1.marks)"
   ]
  },
  {
   "cell_type": "markdown",
   "id": "a47ac14e",
   "metadata": {},
   "source": [
    "- This is not the proper way to add the attributes to the objects. \n",
    "- We want to put attributes inside our class so that all the objects created from the class have this attributes by default.\n",
    "- Similarly, we also put all methods inside  our class so that every object of the class can access them."
   ]
  },
  {
   "cell_type": "markdown",
   "id": "260d544c",
   "metadata": {},
   "source": [
    "### Lets First see how do we add methods inside  a class."
   ]
  },
  {
   "cell_type": "code",
   "execution_count": 34,
   "id": "d5bf3d51",
   "metadata": {},
   "outputs": [],
   "source": [
    "class student:\n",
    "    def student_promoted(self):      #Self=Argument.\n",
    "        if self.marks>= 40:             #self.marks inside the method.\n",
    "            return True\n",
    "        else:\n",
    "            false\n",
    "        "
   ]
  },
  {
   "cell_type": "code",
   "execution_count": 37,
   "id": "67955454",
   "metadata": {},
   "outputs": [],
   "source": [
    "student1 = student()\n",
    "student1.name = 'Shilpa'\n",
    "student.marks = 90"
   ]
  },
  {
   "cell_type": "code",
   "execution_count": 38,
   "id": "e0b5161a",
   "metadata": {},
   "outputs": [
    {
     "name": "stdout",
     "output_type": "stream",
     "text": [
      "True\n"
     ]
    }
   ],
   "source": [
    "promoted = student1.student_promoted()\n",
    "print(promoted)"
   ]
  },
  {
   "cell_type": "markdown",
   "id": "cb9db386",
   "metadata": {},
   "source": [
    "- We have created a class.\n",
    "- And we have defined a student_promoted method inside it,then we created an object from this class and added to two attributes name and marks.\n",
    "- Finally we call the student_promoted method using student1 object.\n",
    "- We have called this method without passing any arguments,however the method definition has an argument called 'Self'.\n"
   ]
  },
  {
   "cell_type": "code",
   "execution_count": 55,
   "id": "f041d854",
   "metadata": {},
   "outputs": [],
   "source": [
    "#example-2\n",
    "class college:\n",
    "    def student_marks(self):\n",
    "        if self.marks>= 40:\n",
    "            return True \n",
    "        else:\n",
    "            return False"
   ]
  },
  {
   "cell_type": "code",
   "execution_count": 56,
   "id": "46a01262",
   "metadata": {},
   "outputs": [],
   "source": [
    "student = college()\n",
    "student.name = 'Shil'\n",
    "student.marks = 95"
   ]
  },
  {
   "cell_type": "code",
   "execution_count": 57,
   "id": "c160a096",
   "metadata": {},
   "outputs": [
    {
     "name": "stdout",
     "output_type": "stream",
     "text": [
      "True\n"
     ]
    }
   ],
   "source": [
    "promoted = student.student_marks()\n",
    "print(promoted)"
   ]
  },
  {
   "cell_type": "code",
   "execution_count": 50,
   "id": "ec72305d",
   "metadata": {},
   "outputs": [],
   "source": [
    "student1 = college()\n",
    "student1.name ='Shivi'\n",
    "student1.marks = 30"
   ]
  },
  {
   "cell_type": "code",
   "execution_count": 51,
   "id": "ee956196",
   "metadata": {},
   "outputs": [
    {
     "name": "stdout",
     "output_type": "stream",
     "text": [
      "False\n"
     ]
    }
   ],
   "source": [
    "passed = student1.student_marks()\n",
    "print(passed)"
   ]
  },
  {
   "cell_type": "markdown",
   "id": "436acccd",
   "metadata": {},
   "source": [
    "## 2.The _int_() Method \n",
    "   The init method is a special method that automatically gets called everytime objects are created."
   ]
  },
  {
   "cell_type": "code",
   "execution_count": 78,
   "id": "99be37f8",
   "metadata": {},
   "outputs": [],
   "source": [
    "class Student:\n",
    "    def check_pass_fail(self):\n",
    "        if self.marks>= 40:\n",
    "            return True\n",
    "        else:\n",
    "            return False\n",
    "        \n",
    "    def __init__(self,name,marks):\n",
    "            self.name = name\n",
    "            self.marks = marks               "
   ]
  },
  {
   "cell_type": "code",
   "execution_count": 82,
   "id": "74b24bb4",
   "metadata": {},
   "outputs": [
    {
     "name": "stdout",
     "output_type": "stream",
     "text": [
      "Nova\n",
      "78\n",
      "jahnvi\n",
      "35\n"
     ]
    }
   ],
   "source": [
    "student1 = Student('Nova',78)\n",
    "student2 = Student('jahnvi',35)\n",
    "print(student1.name)\n",
    "print(student1.marks)\n",
    "print(student2.name)\n",
    "print(student2.marks)"
   ]
  },
  {
   "cell_type": "code",
   "execution_count": 83,
   "id": "34c20b3f",
   "metadata": {
    "scrolled": true
   },
   "outputs": [
    {
     "name": "stdout",
     "output_type": "stream",
     "text": [
      "True\n",
      "False\n"
     ]
    }
   ],
   "source": [
    "promoted = student1.check_pass_fail()\n",
    "print(promoted)\n",
    "promoted = student2.check_pass_fail()\n",
    "print(promoted)\n"
   ]
  },
  {
   "cell_type": "markdown",
   "id": "8c495f17",
   "metadata": {},
   "source": [
    "   ## 2.Object"
   ]
  },
  {
   "cell_type": "markdown",
   "id": "f8e2465f",
   "metadata": {},
   "source": [
    "- An object(instance) is an instantiation of a class.\n",
    "- When a class s defined,only the description of the object is defined. \n"
   ]
  },
  {
   "cell_type": "markdown",
   "id": "b2b26110",
   "metadata": {},
   "source": [
    "### An object consists of :\n",
    " - State: It is represented by the attributes of an object.it also reflects the properties of an object.\n",
    " - Behavior: It is represented by the method of an object.It also reflects the response of an object to other objects.\n",
    " - Identity : It gives a unique name to an object and enables one object to interact with other objects.\n",
    " \n",
    " "
   ]
  },
  {
   "cell_type": "markdown",
   "id": "6bd91455",
   "metadata": {},
   "source": [
    "obj = Peacock()"
   ]
  },
  {
   "cell_type": "code",
   "execution_count": 102,
   "id": "69797107",
   "metadata": {},
   "outputs": [
    {
     "name": "stdout",
     "output_type": "stream",
     "text": [
      "blu is a bird\n",
      "woo is a bird\n",
      "blu is a 10 years old\n",
      "woo is a 15 years old\n"
     ]
    }
   ],
   "source": [
    "class peacock:\n",
    "\n",
    "  #class attribute\n",
    "    species = 'bird'\n",
    "     #instance attribute\n",
    "    def __init__(self,name,age):\n",
    "        self.name = name\n",
    "        self.age = age\n",
    "        \n",
    "#instatiate the attributes\n",
    "blu = peacock('blu',10)\n",
    "woo = peacock('woo',15)\n",
    "\n",
    "#acess  the class attribute\n",
    "print('blu is a {}'.format(blu.__class__.species))\n",
    "print('woo is a {}'.format(woo.__class__.species))\n",
    "#acess the instance attribute\n",
    "print('{} is a {} years old'.format(blu.name,blu.age))\n",
    "print('{} is a {} years old'.format(woo.name,woo.age))\n",
    "     \n",
    "    "
   ]
  },
  {
   "cell_type": "code",
   "execution_count": 110,
   "id": "aaa10b3d",
   "metadata": {},
   "outputs": [
    {
     "name": "stdout",
     "output_type": "stream",
     "text": [
      "leela is a student\n",
      "shilpa is a student\n",
      "leela is a 10 years old\n",
      "shilpa is a 15 years old\n"
     ]
    }
   ],
   "source": [
    "class college:\n",
    "\n",
    "  #class attribute\n",
    "    school = 'student'\n",
    "     #instance attribute\n",
    "    def __init__(self,name,age):\n",
    "        self.name = name\n",
    "        self.age = age\n",
    "        \n",
    "#instatiate the attributes\n",
    "student1 = college('leela',10)\n",
    "student2= college('shilpa',15)\n",
    "\n",
    "#acess  the class attribute\n",
    "print('leela is a {}'.format(student1.__class__.school))\n",
    "print('shilpa is a {}'.format(student2.__class__.school))\n",
    "#acess the instance attribute\n",
    "print('{} is a {} years old'.format(student1.name,student1.age))\n",
    "print('{} is a {} years old'.format(student2.name,student2.age))\n",
    "     "
   ]
  },
  {
   "cell_type": "code",
   "execution_count": 116,
   "id": "bb8ee744",
   "metadata": {},
   "outputs": [
    {
     "name": "stdout",
     "output_type": "stream",
     "text": [
      "deepak is a student\n",
      "ssi is a student\n",
      "deepak is 17 years old\n",
      "ssi is 20 years old\n"
     ]
    }
   ],
   "source": [
    "class college:\n",
    " #class attribute\n",
    " school = 'student'\n",
    "  #instance attribute\n",
    " def __init__(self,name,age):\n",
    "        self.name = name\n",
    "        self.age = age\n",
    "\n",
    "    #instantiate the attributes\n",
    "student1 = college('deepak',17)\n",
    "student2 = college('ssi',20)\n",
    "\n",
    "#acess the class attribute\n",
    "print('deepak is a {}'.format(student1.__class__.school))\n",
    "print('ssi is a {}'.format(student2.__class__.school))\n",
    "#acess the instance attribute\n",
    "print('{} is {} years old'.format(student1.name,student1.age))\n",
    "print('{} is {} years old'.format(student2.name,student2.age))"
   ]
  },
  {
   "cell_type": "markdown",
   "id": "cf612d07",
   "metadata": {},
   "source": [
    "###  Creating Class and objects with methods."
   ]
  },
  {
   "cell_type": "code",
   "execution_count": 121,
   "id": "1f4358b0",
   "metadata": {},
   "outputs": [
    {
     "name": "stdout",
     "output_type": "stream",
     "text": [
      "My name is Rodger\n",
      "My name is Tommy\n"
     ]
    }
   ],
   "source": [
    "class Dog:\n",
    "    #class attribute \n",
    "    species = 'mammal'\n",
    "    #instance attribute\n",
    "    def __init__(self,name):\n",
    "        self.name = name \n",
    "    def speak(self):\n",
    "        print('My name is {}'.format(self.name))\n",
    "        \n",
    "#Driver code\n",
    "#object instantiation\n",
    "Rodger = Dog('Rodger')\n",
    "Tommy = Dog('Tommy')\n",
    "\n",
    "#Accessing class methods\n",
    "Rodger.speak()\n",
    "Tommy.speak()"
   ]
  },
  {
   "cell_type": "code",
   "execution_count": 150,
   "id": "b99257d1",
   "metadata": {},
   "outputs": [
    {
     "name": "stdout",
     "output_type": "stream",
     "text": [
      "my name is Rod\n",
      "my name is Tom\n"
     ]
    }
   ],
   "source": [
    "class Whale:\n",
    "    #class attribute \n",
    "    species = 'mammal'\n",
    "    #instance attribute\n",
    "    def __init__(self,name):\n",
    "        self.name = name\n",
    "    def speak(self):\n",
    "        print('my name is {}'.format(self.name))\n",
    "\n",
    "#instatiation the object\n",
    "Rod = Whale('Rod')\n",
    "Tom = Whale('Tom')\n",
    "\n",
    "#call instance method\n",
    "Rod.speak()\n",
    "Tom.speak()\n",
    "\n",
    "\n",
    "    "
   ]
  },
  {
   "cell_type": "markdown",
   "id": "7db1a30f",
   "metadata": {},
   "source": [
    "## 3.Inheritance \n",
    "    Inheritance is the capability of one class to derive or inherit the properties from another class.\n",
    "    The class that derives properties is called the derived claas or child class \n",
    "    the class from which the properties are being derived is valled the base class or parent class.\n",
    " "
   ]
  },
  {
   "cell_type": "markdown",
   "id": "611f8304",
   "metadata": {},
   "source": [
    "### Types of Inheritance:\n",
    "#### 1.Single Inheritance:\n",
    "- Single-Level inheritance enables a derived class to **inherit characteristics from a single-parent class.**\n",
    "#### 2.Multilevel Inheritance:\n",
    "- Multi-level inheritance enables a derived class to inherit properties from **an immediate parent class which in turn inherits properties from his parent class.**\n",
    "#### 3.Hierarchical Inheritance:\n",
    "- Hierarchical Level inheritance **enables more than one derived class to inherit properties from a parent class.**\n",
    "#### 4.Multiple Inheritance:\n",
    "- **It enables one derived class to inherit properties from more than one base class.** "
   ]
  },
  {
   "cell_type": "code",
   "execution_count": 128,
   "id": "0589dab1",
   "metadata": {},
   "outputs": [
    {
     "name": "stdout",
     "output_type": "stream",
     "text": [
      "animal is ready\n",
      "Dog is ready\n",
      "animal\n",
      "run faster\n",
      "Run slower\n"
     ]
    }
   ],
   "source": [
    "#Parent class\n",
    "class animal:\n",
    "    def __init__(self):\n",
    "        print('animal is ready')\n",
    "    def whoisthis(self):\n",
    "        print('animal')\n",
    "    def eat(self):\n",
    "        print('run faster')\n",
    "\n",
    "#child class\n",
    "class Dog(animal):\n",
    "    def __init__(self):\n",
    "        #call super() function\n",
    "        super().__init__()\n",
    "        print('Dog is ready')\n",
    "    def whoisthis(self):\n",
    "        print('animal')\n",
    "    def run(self):\n",
    "        print('Run slower')\n",
    "\n",
    "tommy = Dog()\n",
    "tommy.whoisthis()\n",
    "tommy.eat()\n",
    "tommy.run()"
   ]
  },
  {
   "cell_type": "code",
   "execution_count": 130,
   "id": "1c06f362",
   "metadata": {},
   "outputs": [
    {
     "name": "stdout",
     "output_type": "stream",
     "text": [
      "struggle cannot be described\n",
      "life is great\n",
      "cant describe it\n",
      "i hope it is peaceful\n",
      "you will change it\n"
     ]
    }
   ],
   "source": [
    "#Parent class:\n",
    "class life:\n",
    "    def __init__(self):\n",
    "        print('life is great')\n",
    "    def whatisit(self):\n",
    "        print('unpredictable')\n",
    "    def ihope(self):\n",
    "        print('i hope it is peaceful')\n",
    "#child class\n",
    "class struggle(life):\n",
    "    def __init__(self):\n",
    "    #call super() function\n",
    "      super().__init__()\n",
    "    print('struggle cannot be described')\n",
    "    def whatisit(self):\n",
    "        print('cant describe it')\n",
    "    def change(self):\n",
    "        print('you will change it')\n",
    "you = struggle()\n",
    "you.whatisit()\n",
    "you.ihope()\n",
    "you.change()\n"
   ]
  },
  {
   "cell_type": "code",
   "execution_count": 134,
   "id": "0d0512d5",
   "metadata": {},
   "outputs": [
    {
     "name": "stdout",
     "output_type": "stream",
     "text": [
      "student\n",
      "dk\n",
      "us\n",
      "cannot change anything\n",
      "jai ho\n"
     ]
    }
   ],
   "source": [
    "#Parent class:\n",
    "class Study:\n",
    "    def __init__(self):\n",
    "        print('student')\n",
    "    def canchangeit(self):\n",
    "        print('you dont even know that')\n",
    "    def grade(self):\n",
    "        print('cannot change anything')\n",
    "#Child class:\n",
    "class student(Study):\n",
    "    def __init__(self):\n",
    "        #call super() method.\n",
    "        super().__init__()\n",
    "        print('dk')\n",
    "    def canchangeit(self):\n",
    "        print('us')\n",
    "    def life(self):\n",
    "        print('jai ho')\n",
    "arpita =student()\n",
    "arpita.canchangeit()\n",
    "arpita.grade()\n",
    "arpita.life()\n",
    "    "
   ]
  },
  {
   "cell_type": "markdown",
   "id": "44c8cb2d",
   "metadata": {},
   "source": [
    "### 4.Encapsulation\n",
    "    Using OOPs in Python, we can restrict access to methods and variables.This prevents data from direct modifcation which is called encapsulation."
   ]
  },
  {
   "cell_type": "code",
   "execution_count": 137,
   "id": "af702971",
   "metadata": {},
   "outputs": [
    {
     "name": "stdout",
     "output_type": "stream",
     "text": [
      "selling Price: 900\n",
      "selling Price: 900\n",
      "selling Price: 1000\n"
     ]
    }
   ],
   "source": [
    "class phone:\n",
    "    def __init__(self):\n",
    "         self.__maxprice = 900\n",
    "    def sell(self):\n",
    "        print('selling Price: {}'.format(self.__maxprice))\n",
    "    def setMaxPrice(self,price):\n",
    "        self.__maxprice = price\n",
    "c = phone()\n",
    "c.sell()\n",
    "    #chane the proce \n",
    "c.__maxprice = 1000\n",
    "c.sell()\n",
    "    #using setter function\n",
    "c.setMaxPrice(1000)\n",
    "c.sell()"
   ]
  },
  {
   "cell_type": "code",
   "execution_count": 140,
   "id": "0d9bb980",
   "metadata": {},
   "outputs": [
    {
     "name": "stdout",
     "output_type": "stream",
     "text": [
      "selling preice is 900\n",
      "selling preice is 900\n",
      "selling preice is 1000\n"
     ]
    }
   ],
   "source": [
    "class laptop:\n",
    "    def __init__(self):\n",
    "        self.__maxprice = 900\n",
    "    def sell(self):\n",
    "        print('selling preice is {}'.format(self.__maxprice))\n",
    "    def setmaxprice(self,price):\n",
    "        self.__maxprice = price\n",
    "l = laptop()\n",
    "l.sell()\n",
    "    #change the price\n",
    "l.__maxprice = 1000\n",
    "l.sell()\n",
    "    \n",
    "    #using setter function\n",
    "l.setmaxprice(1000)\n",
    "l.sell()\n"
   ]
  },
  {
   "cell_type": "code",
   "execution_count": 143,
   "id": "2cff737c",
   "metadata": {},
   "outputs": [
    {
     "name": "stdout",
     "output_type": "stream",
     "text": [
      "the price is 900\n",
      "the price is 900\n",
      "the price is 1500\n"
     ]
    }
   ],
   "source": [
    "class choclate:\n",
    "    def __init__(self):\n",
    "        self.__maxprice = 900\n",
    "    def maxprice(self):\n",
    "        print('the price is {}'.format(self.__maxprice))\n",
    "    def setmaxprice(self, price):\n",
    "        self.__maxprice = price\n",
    "c = choclate()\n",
    "c.maxprice()\n",
    "c.__maxprice = 1000\n",
    "c.maxprice()\n",
    "c.setmaxprice(1500)\n",
    "c.maxprice()\n"
   ]
  },
  {
   "cell_type": "code",
   "execution_count": 144,
   "id": "2dec7b11",
   "metadata": {},
   "outputs": [
    {
     "name": "stdout",
     "output_type": "stream",
     "text": [
      "the selling price is 800\n",
      "the selling price is 800\n",
      "the selling price is 1010\n"
     ]
    }
   ],
   "source": [
    "class book:\n",
    "    def __init__(self):\n",
    "        self.__maxprice = 800\n",
    "    def sellprice(self):\n",
    "        print('the selling price is {}'.format(self.__maxprice))\n",
    "    def changeprice(self , price):\n",
    "        self.__maxprice = price\n",
    "b = book()\n",
    "b.sellprice()\n",
    "b.__maxprice = 800\n",
    "b.sellprice()\n",
    "b.changeprice(1010)\n",
    "b.sellprice()\n"
   ]
  },
  {
   "cell_type": "markdown",
   "id": "14bc531b",
   "metadata": {},
   "source": [
    "### 5.Polymorphism\n",
    " - Polymorphism simply means having **many forms.**\n",
    " - Polymorphism is an ability(in OOPs) to use a **common interface for multiple forms(data types).**"
   ]
  },
  {
   "cell_type": "code",
   "execution_count": 147,
   "id": "6818706c",
   "metadata": {},
   "outputs": [
    {
     "name": "stdout",
     "output_type": "stream",
     "text": [
      "home is home\n",
      "student are good\n"
     ]
    }
   ],
   "source": [
    "class home:\n",
    "    def safe(self):\n",
    "        print('home is home')\n",
    "    def settle(self):\n",
    "        print('home is safe')\n",
    "class school:\n",
    "    def safe(self):\n",
    "        print('student are good')\n",
    "    def child(self):\n",
    "        print('should study well')\n",
    "#common interface\n",
    "def journey(life):\n",
    "    life.safe()\n",
    "\n",
    "#instanctiate objects\n",
    "homie =  home()\n",
    "college = school()\n",
    "#passing the object\n",
    "journey(homie)\n",
    "journey(college)"
   ]
  },
  {
   "cell_type": "code",
   "execution_count": 149,
   "id": "6f30830f",
   "metadata": {},
   "outputs": [
    {
     "name": "stdout",
     "output_type": "stream",
     "text": [
      "student life is tough\n",
      "student life is not tough\n"
     ]
    }
   ],
   "source": [
    "class student:\n",
    "    def study(self):\n",
    "        print('student life is tough')\n",
    "    def classroom(self):\n",
    "        print('student cant promoted ')\n",
    "class school:\n",
    "    def study(self):\n",
    "        print('student life is not tough')\n",
    "    def book(self):\n",
    "        print('good for you')\n",
    "#common interface\n",
    "def student_life(carrier):\n",
    "    carrier.study()\n",
    "#instantiate objects\n",
    "shiv = student()\n",
    "shiva = school()\n",
    "\n",
    "#passing the object\n",
    "student_life(shiv)\n",
    "student_life(shiva)"
   ]
  },
  {
   "cell_type": "code",
   "execution_count": 154,
   "id": "d9badb56",
   "metadata": {},
   "outputs": [
    {
     "name": "stdout",
     "output_type": "stream",
     "text": [
      "sister\n",
      "brother \n"
     ]
    }
   ],
   "source": [
    "class sister:\n",
    "    def sis(self):\n",
    "        print('sister')\n",
    "    def help(self):\n",
    "        print('helps each other')\n",
    "class brother:\n",
    "    def sis(self):\n",
    "        print('brother ')\n",
    "    def bro(self):\n",
    "        print('nothing to do')\n",
    "#using the common interface \n",
    "def family(home):\n",
    "    home.sis()\n",
    "#instatiate objects\n",
    "girl = sister()\n",
    "boy = brother()\n",
    "\n",
    "#passing the objects\n",
    "family(girl)\n",
    "family(boy)"
   ]
  },
  {
   "cell_type": "markdown",
   "id": "cd2d6ed3",
   "metadata": {},
   "source": [
    "###  6.Data  Abstraction"
   ]
  },
  {
   "cell_type": "markdown",
   "id": "c37dfc3e",
   "metadata": {},
   "source": [
    "-  It hided the unnecessary code code details from the users.\n",
    "- Also,when you do not want to give out your sensitive parts of our code implementation and this is where data abstraction came"
   ]
  },
  {
   "cell_type": "code",
   "execution_count": null,
   "id": "4b653880",
   "metadata": {},
   "outputs": [],
   "source": []
  },
  {
   "cell_type": "code",
   "execution_count": null,
   "id": "0bf94bbd",
   "metadata": {},
   "outputs": [],
   "source": []
  }
 ],
 "metadata": {
  "kernelspec": {
   "display_name": "Python 3 (ipykernel)",
   "language": "python",
   "name": "python3"
  },
  "language_info": {
   "codemirror_mode": {
    "name": "ipython",
    "version": 3
   },
   "file_extension": ".py",
   "mimetype": "text/x-python",
   "name": "python",
   "nbconvert_exporter": "python",
   "pygments_lexer": "ipython3",
   "version": "3.9.12"
  }
 },
 "nbformat": 4,
 "nbformat_minor": 5
}
